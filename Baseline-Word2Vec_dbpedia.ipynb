{
 "cells": [
  {
   "cell_type": "code",
   "execution_count": 7,
   "source": [
    "from gensim.models import KeyedVectors\n",
    "import numpy as np\n",
    "import string\n",
    "import csv\n",
    "import re\n",
    "\n",
    "model = KeyedVectors.load_word2vec_format('../GoogleNews-vectors-negative300.bin', binary=True)\n",
    "\n",
    "# 前処理\n",
    "def preprocessing(text,auth):\n",
    "    # 括弧内文章の削除\n",
    "    text = re.sub(r'\\(.*?\\)','',text)\n",
    "    # 記号文字の削除\n",
    "    text = text.translate(str.maketrans('','',string.punctuation))\n",
    "    # 著者名の削除\n",
    "    text = text.replace(auth,'')\n",
    "    # スペースの調整\n",
    "    text = re.sub(r'\\s+',' ',text)\n",
    "    return text\n",
    "\n",
    "def docvec(row):\n",
    "    vector = np.zeros((300,),dtype='float32') \n",
    "    words = row.split(\" \")\n",
    "    count = 0\n",
    "    for word in words:\n",
    "        try: \n",
    "            vec = model[word]\n",
    "            vector += vec\n",
    "            count += 1\n",
    "        except:\n",
    "            pass\n",
    "    if count == 0:\n",
    "        return vector\n",
    "    else:\n",
    "        return vector/count\n",
    "\n",
    "with open('../data/dbpedia_csv/classes.txt','r',encoding='utf-8') as f:\n",
    "    reader = f.read().splitlines()\n",
    "    classes = [docvec(c) for c in reader]\n",
    "\n",
    "with open('../data/dbpedia_csv/test.csv','r',encoding='utf-8') as f:\n",
    "    reader = csv.reader(f)\n",
    "    x_test = list()\n",
    "    y_test = list()\n",
    "    for cls_num,auth,readtext in reader:\n",
    "        x_test.append(docvec(preprocessing(readtext,auth)))\n",
    "        y_test.append(int(cls_num))\n",
    "\n",
    "np.save('../dataset/test/x_test.npy',x_test)\n",
    "np.save('../dataset/test/y_test.npy',y_test)\n",
    "np.save('../dataset/test/classes.npy',classes)"
   ],
   "outputs": [],
   "metadata": {}
  },
  {
   "cell_type": "code",
   "execution_count": 9,
   "source": [
    "import numpy as np\n",
    "from sklearn import metrics\n",
    "\n",
    "def rank1(vec1,class_list):\n",
    "    mini=-1\n",
    "    pp=1000\n",
    "    for i,vec2 in enumerate(class_list):\n",
    "        cos = np.sum((vec1*vec2)/(np.linalg.norm(vec1)*np.linalg.norm(vec2)))\n",
    "        if cos>mini:\n",
    "            mini=cos\n",
    "            pp=i+1\n",
    "    return pp\n",
    "\n",
    "x_test = np.load('../dataset/test/x_test.npy')\n",
    "y_test = np.load('../dataset/test/y_test.npy')\n",
    "classes = np.load('../dataset/test/classes.npy')\n",
    "\n",
    "pred = [rank1(vec,classes) for vec in x_test]\n",
    "target_class = [\"Com.\",\"Edu.\",\"Art.\",\"Ath.\",\"Off.\",\"Mea.\",\"Bui.\",\"Nat.\",\"Vil.\",\"Ani.\",\"Pla.\",\"Alb.\",\"Fil.\",\"Wri.\"]\n",
    "\n",
    "rep = metrics.classification_report(y_test,pred,target_names=target_class,digits=3)\n",
    "print(rep)"
   ],
   "outputs": [
    {
     "output_type": "stream",
     "name": "stdout",
     "text": [
      "              precision    recall  f1-score   support\n",
      "\n",
      "        Com.      0.860     0.411     0.556      5000\n",
      "        Edu.      0.511     0.768     0.614      5000\n",
      "        Art.      0.851     0.337     0.483      5000\n",
      "        Ath.      0.969     0.610     0.749      5000\n",
      "        Off.      0.454     0.404     0.428      5000\n",
      "        Mea.      0.424     0.461     0.442      5000\n",
      "        Bui.      0.605     0.432     0.504      5000\n",
      "        Nat.      0.195     0.493     0.280      5000\n",
      "        Vil.      0.589     0.980     0.736      5000\n",
      "        Ani.      0.767     0.066     0.122      5000\n",
      "        Pla.      0.612     0.484     0.540      5000\n",
      "        Alb.      0.786     0.920     0.847      5000\n",
      "        Fil.      0.759     0.712     0.735      5000\n",
      "        Wri.      0.547     0.615     0.579      5000\n",
      "\n",
      "    accuracy                          0.550     70000\n",
      "   macro avg      0.638     0.550     0.544     70000\n",
      "weighted avg      0.638     0.550     0.544     70000\n",
      "\n"
     ]
    }
   ],
   "metadata": {
    "tags": []
   }
  }
 ],
 "metadata": {
  "kernelspec": {
   "name": "python3",
   "display_name": "Python 3.6.9 64-bit ('3.6.9': pyenv)"
  },
  "language_info": {
   "codemirror_mode": {
    "name": "ipython",
    "version": 3
   },
   "file_extension": ".py",
   "mimetype": "text/x-python",
   "name": "python",
   "nbconvert_exporter": "python",
   "pygments_lexer": "ipython3",
   "version": "3.6.9"
  },
  "interpreter": {
   "hash": "dacf6aa3b6aaa6166c9aab738ca0f053c223d2fabaa97df58850caa710ae1ba3"
  }
 },
 "nbformat": 4,
 "nbformat_minor": 2
}